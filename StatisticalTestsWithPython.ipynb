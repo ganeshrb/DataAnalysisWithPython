{
 "cells": [
  {
   "cell_type": "markdown",
   "metadata": {},
   "source": [
    "## Statistical tests with Python:"
   ]
  },
  {
   "cell_type": "markdown",
   "metadata": {},
   "source": [
    "### 1. Normality Tests"
   ]
  },
  {
   "cell_type": "markdown",
   "metadata": {},
   "source": [
    "The normal distribution, also known as the Gaussian distribution, is a symmetric distribution where mean, median and mode are the same."
   ]
  },
  {
   "cell_type": "markdown",
   "metadata": {},
   "source": [
    "#### Graphical method:\n",
    "There are various graphical methods for testing normality of a distribution. For example, Histogram with distribution curve, Box plot and more. Hre we are going to use probability plot (called Q Q or Quantile-Quantile Plot."
   ]
  },
  {
   "cell_type": "code",
   "execution_count": 2,
   "metadata": {},
   "outputs": [],
   "source": [
    "# Importing necessary libraries\n",
    "import pandas as pd\n",
    "import numpy as np\n",
    "import seaborn as sns\n",
    "import scipy.stats as stats\n",
    "import statsmodels as sm\n",
    "from scipy.stats import norm\n",
    "from plotnine import *\n",
    "import matplotlib.pyplot as plt"
   ]
  },
  {
   "cell_type": "code",
   "execution_count": 3,
   "metadata": {},
   "outputs": [
    {
     "data": {
      "image/png": "[encoded data removed]",
      "text/plain": [
       "<Figure size 432x288 with 1 Axes>"
      ]
     },
     "metadata": {
      "needs_background": "light"
     },
     "output_type": "display_data"
    }
   ],
   "source": [
    "#Probability plot: # random normal data with mu=25, sigma = 5\n",
    "data = np.random.normal(loc = 25, scale = 5, size = 200)\n",
    "stats.probplot(data, dist = 'norm', plot = plt)\n",
    "plt.show()"
   ]
  },
  {
   "cell_type": "markdown",
   "metadata": {},
   "source": [
    "If our data form a normal distribution, we should see all the points sitting on the straight line."
   ]
  },
  {
   "cell_type": "code",
   "execution_count": 4,
   "metadata": {},
   "outputs": [
    {
     "data": {
      "image/png": "[encoded data removed]",
      "text/plain": [
       "<Figure size 432x288 with 1 Axes>"
      ]
     },
     "metadata": {
      "needs_background": "light"
     },
     "output_type": "display_data"
    }
   ],
   "source": [
    "sns.kdeplot(data, color=\"r\")\n",
    "plt.axvline(data.mean(), color = 'g', linestyle = 'dashed', linewidth = 1)\n",
    "plt.show()"
   ]
  },
  {
   "cell_type": "markdown",
   "metadata": {},
   "source": [
    "#### Numerical Method:\n",
    "There are varous nuerical tests for normality. For example Shapiro-Wilk Test, D’Agostino’s $K^2$ Test\n",
    "and Anderson-Darling Test. Here we will use\n",
    "#### Shapiro-Wilk Test:"
   ]
  },
  {
   "cell_type": "markdown",
   "metadata": {},
   "source": [
    "##### Assumptions:\n",
    "Observations in each sample are independent and identically distributed (iid).\n",
    "\n",
    "##### Hypotheses:\n",
    "- H0: the sample has a Gaussian distribution.\n",
    "- H1: the sample does not have a Gaussian distribution.\n",
    "\n",
    "##### Conclusion:\n",
    "- If the p-value ≤ 0.05, then we reject the null hypothesis i.e. we assume the distribution of our variable is not normal/gaussian.\n",
    "- If the p-value > 0.05, then we fail to reject the null hypothesis."
   ]
  },
  {
   "cell_type": "code",
   "execution_count": 5,
   "metadata": {},
   "outputs": [
    {
     "name": "stdout",
     "output_type": "stream",
     "text": [
      "stat = 0.992, p = 0.301\n",
      "Fail to reject the null hypothesis (Probably Gaussian).\n"
     ]
    }
   ],
   "source": [
    "# Example of the Shapiro-Wilk Normality Test\n",
    "from scipy.stats import shapiro\n",
    "stat, p = shapiro(data)\n",
    "print('stat = %.3f, p = %.3f' %(stat, p))\n",
    "if p > 0.05:\n",
    "    print('Fail to reject the null hypothesis (Probably Gaussian).')\n",
    "else:\n",
    "    print('Reject the null hypothesis (Probably not Gaussian).')"
   ]
  },
  {
   "cell_type": "markdown",
   "metadata": {},
   "source": [
    "### 2. Correlation Tests\n",
    "\n",
    "This section lists statistical tests that you can use to check if two samples are related.\n",
    "- Pearson’s Correlation Coefficient\n",
    "- Spearman’s Rank Correlation\n",
    "- Kendall’s Rank Correlation\n",
    "\n",
    "Among these test here we are using:\n",
    "#### Pearson’s Correlation Coefficient\n",
    "\n",
    "Tests whether two samples have a linear relationship.\n",
    "\n",
    "Assumptions:\n",
    "\n",
    "- Observations in each sample are independent and identically distributed (iid).\n",
    "- Observations in each sample are normally distributed.\n",
    "- Observations in each sample have the same variance.\n",
    "\n",
    "Hypotheses:\n",
    "\n",
    "- H0: the two samples are independent (i.e. Have no relationship).\n",
    "- H1: there is a dependency between the samples (i.e. Have relationship).\n"
   ]
  },
  {
   "cell_type": "code",
   "execution_count": 6,
   "metadata": {},
   "outputs": [
    {
     "name": "stdout",
     "output_type": "stream",
     "text": [
      "stat = 0.688, p = 0.028\n",
      "Reject the null hypothesis (Probably dependent).\n"
     ]
    }
   ],
   "source": [
    "# Example of the Pearson's Correlation test\n",
    "from scipy.stats import pearsonr\n",
    "\n",
    "data1 = [0.873, 2.817, 0.121, -0.945, -0.055, -1.436, 0.360, -1.478, -1.637, -1.869]\n",
    "data2 = [0.353, 3.517, 0.125, -7.545, -0.555, -1.536, 3.350, -1.578, -3.537, -1.579]\n",
    "\n",
    "stat, p = pearsonr(data1, data2)\n",
    "print('stat = %.3f, p = %.3f' % (stat, p))\n",
    "if p > 0.05:\n",
    "    print('Fail to reject the null hypothesis (Probably independent).')\n",
    "else:\n",
    "    print('Reject the null hypothesis (Probably dependent).')"
   ]
  },
  {
   "cell_type": "markdown",
   "metadata": {},
   "source": [
    "### 3. Statistical Hypothesis Tests:\n",
    "A statistical test examines two opposing hypotheses about a population: the null hypothesis and the alternative hypothesis. The null hypothesis states that a population parameter (such as the mean, the standard deviation, and so on) is equal to a hypothesized value. The alternative hypothesis mathematical opposite of the null hypothesis.\n",
    "This section lists statistical tests that you can use to compare data samples.\n",
    "- One-Sample Z test\n",
    "- Two-Sample Z test\n",
    "- One-Sample T-test (Student’s t-test)\n",
    "- Two Samples T-Test (Paired Student’s t-test)\n",
    "- Chi-Squared Test\n",
    "- Analysis of Variance Test (ANOVA)"
   ]
  },
  {
   "cell_type": "markdown",
   "metadata": {},
   "source": [
    "### Population Data\n",
    "Let us assume, we have a data of Verbal and Math SAT Scores of 2000 students in a High School. The total number of boys is 1000 and that of girls is 1000."
   ]
  },
  {
   "cell_type": "code",
   "execution_count": 7,
   "metadata": {},
   "outputs": [
    {
     "data": {
      "text/html": [
       "<div>\n",
       "<style scoped>\n",
       "    .dataframe tbody tr th:only-of-type {\n",
       "        vertical-align: middle;\n",
       "    }\n",
       "\n",
       "    .dataframe tbody tr th {\n",
       "        vertical-align: top;\n",
       "    }\n",
       "\n",
       "    .dataframe thead th {\n",
       "        text-align: right;\n",
       "    }\n",
       "</style>\n",
       "<table border=\"1\" class=\"dataframe\">\n",
       "  <thead>\n",
       "    <tr style=\"text-align: right;\">\n",
       "      <th></th>\n",
       "      <th>Gender</th>\n",
       "      <th>Verbal</th>\n",
       "      <th>Math</th>\n",
       "    </tr>\n",
       "  </thead>\n",
       "  <tbody>\n",
       "    <tr>\n",
       "      <th>0</th>\n",
       "      <td>Female</td>\n",
       "      <td>606</td>\n",
       "      <td>506</td>\n",
       "    </tr>\n",
       "    <tr>\n",
       "      <th>1</th>\n",
       "      <td>Male</td>\n",
       "      <td>360</td>\n",
       "      <td>579</td>\n",
       "    </tr>\n",
       "    <tr>\n",
       "      <th>2</th>\n",
       "      <td>Female</td>\n",
       "      <td>620</td>\n",
       "      <td>631</td>\n",
       "    </tr>\n",
       "    <tr>\n",
       "      <th>3</th>\n",
       "      <td>Female</td>\n",
       "      <td>362</td>\n",
       "      <td>564</td>\n",
       "    </tr>\n",
       "    <tr>\n",
       "      <th>4</th>\n",
       "      <td>Male</td>\n",
       "      <td>628</td>\n",
       "      <td>564</td>\n",
       "    </tr>\n",
       "  </tbody>\n",
       "</table>\n",
       "</div>"
      ],
      "text/plain": [
       "   Gender  Verbal  Math\n",
       "0  Female     606   506\n",
       "1    Male     360   579\n",
       "2  Female     620   631\n",
       "3  Female     362   564\n",
       "4    Male     628   564"
      ]
     },
     "execution_count": 7,
     "metadata": {},
     "output_type": "execute_result"
    }
   ],
   "source": [
    "# Loading Data\n",
    "df = pd.read_csv('Sat_Scores.csv')\n",
    "df.head()"
   ]
  },
  {
   "cell_type": "code",
   "execution_count": 8,
   "metadata": {},
   "outputs": [
    {
     "data": {
      "text/plain": [
       "(2000, 3)"
      ]
     },
     "execution_count": 8,
     "metadata": {},
     "output_type": "execute_result"
    }
   ],
   "source": [
    "df.shape"
   ]
  },
  {
   "cell_type": "code",
   "execution_count": 9,
   "metadata": {},
   "outputs": [
    {
     "data": {
      "text/plain": [
       "Gender    object\n",
       "Verbal     int64\n",
       "Math       int64\n",
       "dtype: object"
      ]
     },
     "execution_count": 9,
     "metadata": {},
     "output_type": "execute_result"
    }
   ],
   "source": [
    "df.dtypes"
   ]
  },
  {
   "cell_type": "code",
   "execution_count": 11,
   "metadata": {},
   "outputs": [
    {
     "data": {
      "text/html": [
       "<div>\n",
       "<style scoped>\n",
       "    .dataframe tbody tr th:only-of-type {\n",
       "        vertical-align: middle;\n",
       "    }\n",
       "\n",
       "    .dataframe tbody tr th {\n",
       "        vertical-align: top;\n",
       "    }\n",
       "\n",
       "    .dataframe thead th {\n",
       "        text-align: right;\n",
       "    }\n",
       "</style>\n",
       "<table border=\"1\" class=\"dataframe\">\n",
       "  <thead>\n",
       "    <tr style=\"text-align: right;\">\n",
       "      <th></th>\n",
       "      <th>Gender</th>\n",
       "    </tr>\n",
       "  </thead>\n",
       "  <tbody>\n",
       "    <tr>\n",
       "      <th>Female</th>\n",
       "      <td>1000</td>\n",
       "    </tr>\n",
       "    <tr>\n",
       "      <th>Male</th>\n",
       "      <td>1000</td>\n",
       "    </tr>\n",
       "  </tbody>\n",
       "</table>\n",
       "</div>"
      ],
      "text/plain": [
       "        Gender\n",
       "Female    1000\n",
       "Male      1000"
      ]
     },
     "execution_count": 11,
     "metadata": {},
     "output_type": "execute_result"
    }
   ],
   "source": [
    "df['Gender'].value_counts().to_frame()"
   ]
  },
  {
   "cell_type": "code",
   "execution_count": 12,
   "metadata": {},
   "outputs": [
    {
     "data": {
      "text/html": [
       "<div>\n",
       "<style scoped>\n",
       "    .dataframe tbody tr th:only-of-type {\n",
       "        vertical-align: middle;\n",
       "    }\n",
       "\n",
       "    .dataframe tbody tr th {\n",
       "        vertical-align: top;\n",
       "    }\n",
       "\n",
       "    .dataframe thead th {\n",
       "        text-align: right;\n",
       "    }\n",
       "</style>\n",
       "<table border=\"1\" class=\"dataframe\">\n",
       "  <thead>\n",
       "    <tr style=\"text-align: right;\">\n",
       "      <th></th>\n",
       "      <th>Verbal</th>\n",
       "      <th>Math</th>\n",
       "    </tr>\n",
       "  </thead>\n",
       "  <tbody>\n",
       "    <tr>\n",
       "      <th>count</th>\n",
       "      <td>2000.000000</td>\n",
       "      <td>2000.000000</td>\n",
       "    </tr>\n",
       "    <tr>\n",
       "      <th>mean</th>\n",
       "      <td>498.577500</td>\n",
       "      <td>546.414000</td>\n",
       "    </tr>\n",
       "    <tr>\n",
       "      <th>std</th>\n",
       "      <td>87.641854</td>\n",
       "      <td>83.057756</td>\n",
       "    </tr>\n",
       "    <tr>\n",
       "      <th>min</th>\n",
       "      <td>350.000000</td>\n",
       "      <td>400.000000</td>\n",
       "    </tr>\n",
       "    <tr>\n",
       "      <th>25%</th>\n",
       "      <td>422.000000</td>\n",
       "      <td>478.000000</td>\n",
       "    </tr>\n",
       "    <tr>\n",
       "      <th>50%</th>\n",
       "      <td>498.000000</td>\n",
       "      <td>548.500000</td>\n",
       "    </tr>\n",
       "    <tr>\n",
       "      <th>75%</th>\n",
       "      <td>574.000000</td>\n",
       "      <td>617.000000</td>\n",
       "    </tr>\n",
       "    <tr>\n",
       "      <th>max</th>\n",
       "      <td>650.000000</td>\n",
       "      <td>690.000000</td>\n",
       "    </tr>\n",
       "  </tbody>\n",
       "</table>\n",
       "</div>"
      ],
      "text/plain": [
       "            Verbal         Math\n",
       "count  2000.000000  2000.000000\n",
       "mean    498.577500   546.414000\n",
       "std      87.641854    83.057756\n",
       "min     350.000000   400.000000\n",
       "25%     422.000000   478.000000\n",
       "50%     498.000000   548.500000\n",
       "75%     574.000000   617.000000\n",
       "max     650.000000   690.000000"
      ]
     },
     "execution_count": 12,
     "metadata": {},
     "output_type": "execute_result"
    }
   ],
   "source": [
    "df.describe()"
   ]
  },
  {
   "cell_type": "markdown",
   "metadata": {},
   "source": [
    "#### One-Sample Z test\n",
    "One sample Z test is used to compare the population mean to a sample. Population standard deviation must be known to perform the Z test and data should be normally distributed.\n",
    "\n"
   ]
  },
  {
   "cell_type": "code",
   "execution_count": 15,
   "metadata": {},
   "outputs": [
    {
     "data": {
      "text/plain": [
       "array([471, 437, 577, 514, 490, 587, 396, 632, 563, 630, 377, 402, 407,\n",
       "       447, 396, 597, 513, 571, 602, 391, 490, 399, 603, 394, 547])"
      ]
     },
     "execution_count": 15,
     "metadata": {},
     "output_type": "execute_result"
    }
   ],
   "source": [
    "# H0: mu = 500\n",
    "# H1: mu != 500\n",
    "sample = np.random.choice(df.Verbal, 25)\n",
    "sample"
   ]
  },
  {
   "cell_type": "code",
   "execution_count": 16,
   "metadata": {},
   "outputs": [
    {
     "data": {
      "text/plain": [
       "497.32"
      ]
     },
     "execution_count": 16,
     "metadata": {},
     "output_type": "execute_result"
    }
   ],
   "source": [
    "sample_mean = np.mean(sample)\n",
    "sample_mean"
   ]
  },
  {
   "cell_type": "code",
   "execution_count": 18,
   "metadata": {},
   "outputs": [
    {
     "name": "stdout",
     "output_type": "stream",
     "text": [
      "Fail to reject null hypothesis.\n"
     ]
    }
   ],
   "source": [
    "x = sample_mean\n",
    "mu = 500  # population mean\n",
    "sigma = 87.6 # population std\n",
    "n = 25 # sample size\n",
    "z =  (x - mu)/(sigma / np.sqrt(n))\n",
    "pval = 1 - stats.norm.cdf(z)\n",
    "alpha = 0.05\n",
    "if pval <= alpha:\n",
    "    print('Reject null hypothesis.') # Reject Null Hypothesis \n",
    "if pval > alpha:\n",
    "    print('Fail to reject null hypothesis.')# Failed to reject Null Hypothesis\n"
   ]
  },
  {
   "cell_type": "code",
   "execution_count": 19,
   "metadata": {},
   "outputs": [
    {
     "name": "stdout",
     "output_type": "stream",
     "text": [
      "0.8789535565522048\n",
      "Fail to reject null hypothesis\n"
     ]
    }
   ],
   "source": [
    "# Another method for one sample z-test\n",
    "from statsmodels.stats import weightstats as smsw\n",
    "sample1 = sample\n",
    "ztest ,pval = smsw.ztest(sample1, x2=None, value=500)\n",
    "print(float(pval))\n",
    "if pval<=0.05:\n",
    "    print(\"Reject null hypothesis\")\n",
    "else:\n",
    "    print(\"Fail to reject null hypothesis\")"
   ]
  },
  {
   "cell_type": "markdown",
   "metadata": {},
   "source": [
    "#### One-Sample Z test for Proportion\n",
    "One-Sample Z test for proportion is used to compare an observed proportion to a theoretical one. The test of proportion can only be performed on categorical data."
   ]
  },
  {
   "cell_type": "code",
   "execution_count": 20,
   "metadata": {},
   "outputs": [
    {
     "name": "stdout",
     "output_type": "stream",
     "text": [
      "Fail to reject null hypothesis\n"
     ]
    }
   ],
   "source": [
    "#Let’s test the null hypothesis that, on average, twenty percent of women are unemployed.\n",
    "# Then the corresponding null hypothesis is\n",
    "# H0: p0 = 0.2\n",
    "# H1: P0 != 0.2\n",
    "p0 = 0.2 # theoretical proportion\n",
    "p = 0.26 # proportion in a sample of 25\n",
    "n = 25\n",
    "z_stat = (p - p0) / np.sqrt(p0 * (1 - p0) / n)\n",
    "pval = 1 - stats.norm.cdf(z_stat)\n",
    "alpha = 0.05\n",
    "if pval <= alpha:\n",
    "    print('Reject null hypothesis')# Reject Null Hypothesis\n",
    "if pval > alpha:\n",
    "    print('Fail to reject null hypothesis')# Failed to reject Null Hypothesis"
   ]
  },
  {
   "cell_type": "markdown",
   "metadata": {},
   "source": [
    "#### Two-sample Z test:\n",
    "In two sample z-test , we are checking two independent data groups and deciding whether sample mean of two group is equal or not.\n",
    "\n",
    "- H0 : Difference of the means of two groups is 0 (means are equal)\n",
    "- H1 : Difference of the means of two groups is not 0 (means are not equal)"
   ]
  },
  {
   "cell_type": "code",
   "execution_count": 21,
   "metadata": {},
   "outputs": [],
   "source": [
    "sample1 = np.random.choice(df.Verbal, 40)\n",
    "sample2 = np.random.choice(df.Verbal, 35)"
   ]
  },
  {
   "cell_type": "code",
   "execution_count": 23,
   "metadata": {},
   "outputs": [
    {
     "name": "stdout",
     "output_type": "stream",
     "text": [
      "0.22662735237686826\n",
      "Fail to reject null hypothesis\n"
     ]
    }
   ],
   "source": [
    "from statsmodels.stats import weightstats as smsw\n",
    "ztest ,pval1 = smsw.ztest(x1=sample1, x2=sample2, value=0,alternative='two-sided')\n",
    "print(float(pval))\n",
    "if pval<=0.05:\n",
    "    print(\"Reject null hypothesis\")\n",
    "else:\n",
    "    print(\"Fail to reject null hypothesis\")"
   ]
  },
  {
   "cell_type": "code",
   "execution_count": 25,
   "metadata": {},
   "outputs": [
    {
     "name": "stdout",
     "output_type": "stream",
     "text": [
      "Fail to reject the null hypothesis\n"
     ]
    }
   ],
   "source": [
    "# Another method\n",
    "x1 = np.mean(sample1)\n",
    "x2 = np.mean(sample2)\n",
    "n1 = 40 #sample1 size\n",
    "n2 = 35 #sample2 size\n",
    "sigma1 = np.std(sample1) #standard deviation of sample1\n",
    "sigma2 = np.std(sample2) #standard deviation of sample2\n",
    "mu = 500 #population mean\n",
    "sigma = 87.6 #population standard deviation\n",
    "z_stat = (x1 - x2)/np.sqrt((sigma1**2/n1) + (sigma2**2/n2))\n",
    "pval = 1 - stats.norm.cdf(z_stat)\n",
    "alpha = 0.05\n",
    "if pval <= alpha:\n",
    "    print('Reject the null hypothesis')# Reject Null Hypothesis\n",
    "if pval > alpha:\n",
    "    print('Fail to reject the null hypothesis')# Failed to reject Null Hypothesis"
   ]
  },
  {
   "cell_type": "markdown",
   "metadata": {},
   "source": [
    "#### Two sample Z test for Proportion\n",
    "Two Sample Z test for proportion is used to compare two proportions with a theoretical proportion.\n"
   ]
  },
  {
   "cell_type": "code",
   "execution_count": 27,
   "metadata": {},
   "outputs": [
    {
     "name": "stdout",
     "output_type": "stream",
     "text": [
      "Fail to reject the null hypothesis\n"
     ]
    }
   ],
   "source": [
    "p0 = 0.2 #theoretical proportion\n",
    "p1 = 0.23 # proportion in first sample\n",
    "p2 = 0.29 # proportion in second sample\n",
    "n1 = 40 #sample1 size\n",
    "n2 = 35 #sample2 size\n",
    "z_stat = (p1 - p2)/np.sqrt(p0*(1-p0)*((1/n1) + (1/n2)))\n",
    "pval = 1 - stats.norm.cdf(z_stat)\n",
    "alpha = 0.05\n",
    "if pval <= alpha:\n",
    "    print('Reject the null hypothesis')# Reject Null Hypothesis\n",
    "if pval > alpha:\n",
    "    print('Fail to reject the null hypothesis')# Failed to reject Null Hypothesis"
   ]
  },
  {
   "cell_type": "markdown",
   "metadata": {},
   "source": [
    "#### Student’s T-test\n",
    "#### One-Sample T-test\n",
    "One sample T-test is used to compare the population mean to a sample. This test is similar to the Z test as it checks the same thing. The difference between these two tests is that the Z test needs population standard deviation but the T-test needs sample standard deviation. If the sample size is greater than 30 One sample T-test is always used regardless of the known population standard deviation and is equivalent to Z-test."
   ]
  },
  {
   "cell_type": "code",
   "execution_count": 31,
   "metadata": {},
   "outputs": [
    {
     "name": "stdout",
     "output_type": "stream",
     "text": [
      "p-values =  0.16841035893705877\n",
      "Fail to reject the null hypothesis\n"
     ]
    }
   ],
   "source": [
    "from scipy import stats\n",
    "sample = np.random.choice(df.Verbal, 25)\n",
    "n = 25\n",
    "popmean = np.mean(df.Verbal)\n",
    "t_stat, pval = stats.ttest_1samp(sample, popmean)\n",
    "print('p-values = ',pval)\n",
    "alpha = 0.05\n",
    "if pval <= alpha:\n",
    "    print('Reject the null hypothesis')# Reject Null Hypothesis\n",
    "if pval > alpha:\n",
    "    print('Fail to reject the null hypothesis')# Failed to reject Null Hypothesis"
   ]
  },
  {
   "cell_type": "code",
   "execution_count": 33,
   "metadata": {},
   "outputs": [
    {
     "name": "stdout",
     "output_type": "stream",
     "text": [
      "t ctitical value = 1.7108820799094275\n",
      "Fail to reject the null hypothesis\n"
     ]
    }
   ],
   "source": [
    "# Another method using critical values:\n",
    "df = 24 # degree of freedom n-1 = 24\n",
    "critical_value  = stats.t.ppf(1 - 0.05, df)\n",
    "print('t ctitical value =',critical_value)\n",
    "p = 1 - stats.t.cdf(t_stat, df)\n",
    "alpha = 0.05\n",
    "if p <= alpha:\n",
    "    print('Reject the null hypothesis')# Reject Null Hypothesis\n",
    "if p > alpha:\n",
    "    print('Fail to reject the null hypothesis')# Failed to reject Null Hypothesis"
   ]
  },
  {
   "cell_type": "markdown",
   "metadata": {},
   "source": [
    "#### Two Samples T-Test\n",
    "The Independent Samples t Test or 2-sample t-test compares the means of two independent groups in order to determine whether there is statistical evidence that the associated population means are significantly different. The Independent Samples t Test is a parametric test. This test is also known as: Independent t Test.\n",
    "\n",
    "Assumptions:\n",
    "\n",
    "- Observations in each sample are independent and identically distributed (iid).\n",
    "- Observations in each sample are normally distributed.\n",
    "- Observations in each sample have the same variance.\n",
    "\n",
    "Hypotheses:\n",
    "\n",
    "- H0: the means of the samples are equal.\n",
    "- H1: the means of the samples are unequal.\n"
   ]
  },
  {
   "cell_type": "code",
   "execution_count": 35,
   "metadata": {},
   "outputs": [
    {
     "data": {
      "text/html": [
       "<div>\n",
       "<style scoped>\n",
       "    .dataframe tbody tr th:only-of-type {\n",
       "        vertical-align: middle;\n",
       "    }\n",
       "\n",
       "    .dataframe tbody tr th {\n",
       "        vertical-align: top;\n",
       "    }\n",
       "\n",
       "    .dataframe thead th {\n",
       "        text-align: right;\n",
       "    }\n",
       "</style>\n",
       "<table border=\"1\" class=\"dataframe\">\n",
       "  <thead>\n",
       "    <tr style=\"text-align: right;\">\n",
       "      <th></th>\n",
       "      <th>Gender</th>\n",
       "      <th>Verbal</th>\n",
       "      <th>Math</th>\n",
       "    </tr>\n",
       "  </thead>\n",
       "  <tbody>\n",
       "    <tr>\n",
       "      <th>0</th>\n",
       "      <td>Female</td>\n",
       "      <td>606</td>\n",
       "      <td>506</td>\n",
       "    </tr>\n",
       "    <tr>\n",
       "      <th>1</th>\n",
       "      <td>Male</td>\n",
       "      <td>360</td>\n",
       "      <td>579</td>\n",
       "    </tr>\n",
       "    <tr>\n",
       "      <th>2</th>\n",
       "      <td>Female</td>\n",
       "      <td>620</td>\n",
       "      <td>631</td>\n",
       "    </tr>\n",
       "    <tr>\n",
       "      <th>3</th>\n",
       "      <td>Female</td>\n",
       "      <td>362</td>\n",
       "      <td>564</td>\n",
       "    </tr>\n",
       "    <tr>\n",
       "      <th>4</th>\n",
       "      <td>Male</td>\n",
       "      <td>628</td>\n",
       "      <td>564</td>\n",
       "    </tr>\n",
       "  </tbody>\n",
       "</table>\n",
       "</div>"
      ],
      "text/plain": [
       "   Gender  Verbal  Math\n",
       "0  Female     606   506\n",
       "1    Male     360   579\n",
       "2  Female     620   631\n",
       "3  Female     362   564\n",
       "4    Male     628   564"
      ]
     },
     "execution_count": 35,
     "metadata": {},
     "output_type": "execute_result"
    }
   ],
   "source": [
    "df = pd.read_csv('Sat_Scores.csv')\n",
    "df.head()"
   ]
  },
  {
   "cell_type": "code",
   "execution_count": 36,
   "metadata": {},
   "outputs": [],
   "source": [
    "sample1 = np.random.choice(df.Verbal, 20)\n",
    "sample2 = np.random.choice(df.Verbal, 25)"
   ]
  },
  {
   "cell_type": "code",
   "execution_count": 37,
   "metadata": {},
   "outputs": [
    {
     "name": "stdout",
     "output_type": "stream",
     "text": [
      "p-value = 0.7966269493978103\n",
      "Fail to reject the null hypothesis\n"
     ]
    }
   ],
   "source": [
    "t_stat, pval =  stats.ttest_ind(sample1, sample2)\n",
    "print('p-value =',pval)\n",
    "alpha = 0.05\n",
    "if pval <= alpha:\n",
    "    print('Reject the null hypothesis')# Reject Null Hypothesis\n",
    "if pval > alpha:\n",
    "    print('Fail to reject the null hypothesis')# Failed to reject Null Hypothesis"
   ]
  },
  {
   "cell_type": "markdown",
   "metadata": {},
   "source": [
    "#### Paired T-test\n",
    "\n",
    "Tests whether the means of two paired samples are significantly different. The paired sample t-test is also called dependent sample t-test. It’s an uni variate test that tests for a significant difference between 2 related variables. An example of this is if you where to collect the blood pressure for an individual before and after some treatment, condition, or time point.\n",
    "\n",
    "Assumptions:\n",
    "\n",
    "- Observations in each sample are independent and identically distributed (iid).\n",
    "- Observations in each sample are normally distributed.\n",
    "- Observations in each sample have the same variance.\n",
    "- Observations across each sample are paired.\n",
    "\n",
    "Hypotheses:\n",
    "\n",
    "- H0: the means of the samples are equal.\n",
    "- H1: the means of the samples are unequal.\n"
   ]
  },
  {
   "cell_type": "code",
   "execution_count": 49,
   "metadata": {},
   "outputs": [
    {
     "name": "stdout",
     "output_type": "stream",
     "text": [
      "t-stat = 1.27, p-value = 0.22\n",
      "Fail to reject the null hypothesis\n"
     ]
    }
   ],
   "source": [
    "# Example of the Paired Student's t-test\n",
    "from scipy.stats import ttest_rel\n",
    "# blood pressure before treatment\n",
    "data1 = [120, 123, 126, 127, 125, 114, 129, 132, 118, 125, 140, 135, \n",
    "         131, 112, 117, 126, 118, 126, 127, 115]\n",
    "# blood pressure before treatment\n",
    "data2 = [110, 113, 116, 127, 115, 124, 119, 122, 128, 115, 130, 125, \n",
    "         141, 122, 127, 116, 118, 118, 124, 125]\n",
    "t_stat, pval = ttest_rel(data1, data2)\n",
    "print('t-stat = %.2f, p-value = %.2f' % (t_stat, pval))\n",
    "alpha = 0.05\n",
    "if pval <= alpha:\n",
    "    print('Reject the null hypothesis')# Reject Null Hypothesis\n",
    "if pval > alpha:\n",
    "    print('Fail to reject the null hypothesis')# Failed to reject Null Hypothesis"
   ]
  },
  {
   "cell_type": "code",
   "execution_count": 52,
   "metadata": {},
   "outputs": [
    {
     "name": "stdout",
     "output_type": "stream",
     "text": [
      "t-stat = 1.12, p-value = 0.27\n",
      "Fail to reject the null hypothesis\n"
     ]
    }
   ],
   "source": [
    "# Method of two sample t-test\n",
    "t_stat, pval = stats.ttest_ind(data1, data2)\n",
    "print('t-stat = %.2f, p-value = %.2f' % (t_stat, pval))\n",
    "alpha = 0.05\n",
    "if pval <= alpha:\n",
    "    print('Reject the null hypothesis')# Reject Null Hypothesis\n",
    "if pval > alpha:\n",
    "    print('Fail to reject the null hypothesis')# Failed to reject Null Hypothesis"
   ]
  },
  {
   "cell_type": "markdown",
   "metadata": {},
   "source": [
    "#### Analysis of Variance Test (ANOVA)\n",
    "\n",
    "ANOVA tests whether the means of two or more independent samples are significantly different. It is used to compare means between three or more samples. It is the same as Independent T-test for two samples.\n",
    "\n",
    "\n",
    "Assumptions:\n",
    "\n",
    "- Observations in each sample are independent and identically distributed (iid).\n",
    "- Observations in each sample are normally distributed.\n",
    "- Observations in each sample have the same variance.\n",
    "\n",
    "Hypotheses:\n",
    "\n",
    "- H0: the means of the samples are equal.\n",
    "- H1: one or more of the means of the samples are unequal."
   ]
  },
  {
   "cell_type": "markdown",
   "metadata": {},
   "source": [
    "##### One Way F-test(ANOVA) : \n",
    "It tells whether or not two or more groups are similar based on their mean similarity and f-score."
   ]
  },
  {
   "cell_type": "code",
   "execution_count": 54,
   "metadata": {},
   "outputs": [
    {
     "name": "stdout",
     "output_type": "stream",
     "text": [
      "stat = 0.096, p = 0.908\n",
      "Probably the same distributions\n"
     ]
    }
   ],
   "source": [
    "# Example of the Analysis of Variance Test\n",
    "from scipy.stats import f_oneway\n",
    "data1 = [0.873, 2.817, 0.121, -0.945, -0.055, -1.436, 0.360, -1.478, -1.637, -1.869]\n",
    "data2 = [1.142, -0.432, -0.938, -0.729, -0.846, -0.157, 0.500, 1.183, -1.075, -0.169]\n",
    "data3 = [-0.208, 0.696, 0.928, -1.148, -0.213, 0.229, 0.137, 0.269, -0.870, -1.204]\n",
    "stat, p = f_oneway(data1, data2, data3)\n",
    "print('stat = %.3f, p = %.3f' % (stat, p))\n",
    "if p <= 0.05:\n",
    "    print('Probably different distribution') # Reject null\n",
    "else:\n",
    "    print('Probably the same distributions') # Fail to reject null"
   ]
  },
  {
   "cell_type": "code",
   "execution_count": 55,
   "metadata": {},
   "outputs": [
    {
     "data": {
      "text/html": [
       "<div>\n",
       "<style scoped>\n",
       "    .dataframe tbody tr th:only-of-type {\n",
       "        vertical-align: middle;\n",
       "    }\n",
       "\n",
       "    .dataframe tbody tr th {\n",
       "        vertical-align: top;\n",
       "    }\n",
       "\n",
       "    .dataframe thead th {\n",
       "        text-align: right;\n",
       "    }\n",
       "</style>\n",
       "<table border=\"1\" class=\"dataframe\">\n",
       "  <thead>\n",
       "    <tr style=\"text-align: right;\">\n",
       "      <th></th>\n",
       "      <th>salary</th>\n",
       "      <th>experience</th>\n",
       "      <th>education</th>\n",
       "      <th>management</th>\n",
       "    </tr>\n",
       "  </thead>\n",
       "  <tbody>\n",
       "    <tr>\n",
       "      <th>0</th>\n",
       "      <td>13876</td>\n",
       "      <td>1</td>\n",
       "      <td>Bachelor</td>\n",
       "      <td>Y</td>\n",
       "    </tr>\n",
       "    <tr>\n",
       "      <th>1</th>\n",
       "      <td>11608</td>\n",
       "      <td>1</td>\n",
       "      <td>Ph.D</td>\n",
       "      <td>N</td>\n",
       "    </tr>\n",
       "    <tr>\n",
       "      <th>2</th>\n",
       "      <td>18701</td>\n",
       "      <td>1</td>\n",
       "      <td>Ph.D</td>\n",
       "      <td>Y</td>\n",
       "    </tr>\n",
       "    <tr>\n",
       "      <th>3</th>\n",
       "      <td>11283</td>\n",
       "      <td>1</td>\n",
       "      <td>Master</td>\n",
       "      <td>N</td>\n",
       "    </tr>\n",
       "    <tr>\n",
       "      <th>4</th>\n",
       "      <td>11767</td>\n",
       "      <td>1</td>\n",
       "      <td>Ph.D</td>\n",
       "      <td>N</td>\n",
       "    </tr>\n",
       "  </tbody>\n",
       "</table>\n",
       "</div>"
      ],
      "text/plain": [
       "   salary  experience education management\n",
       "0   13876           1  Bachelor          Y\n",
       "1   11608           1      Ph.D          N\n",
       "2   18701           1      Ph.D          Y\n",
       "3   11283           1    Master          N\n",
       "4   11767           1      Ph.D          N"
      ]
     },
     "execution_count": 55,
     "metadata": {},
     "output_type": "execute_result"
    }
   ],
   "source": [
    "# Another example with the following salary data set\n",
    "sal = pd.read_csv('salary.csv')\n",
    "sal.head()"
   ]
  },
  {
   "cell_type": "markdown",
   "metadata": {},
   "source": [
    "Example : there are 3 different category of education and salaries and need to check whether all 3 group are similar or not based on the mean salary.\n"
   ]
  },
  {
   "cell_type": "code",
   "execution_count": 61,
   "metadata": {},
   "outputs": [
    {
     "name": "stdout",
     "output_type": "stream",
     "text": [
      "                 sum_sq    df         F    PR(>F)\n",
      "education  1.091346e+08   2.0  2.630597  0.083601\n",
      "Residual   8.919629e+08  43.0       NaN       NaN\n"
     ]
    }
   ],
   "source": [
    "# get ANOVA table as R like output\n",
    "import statsmodels.api as smp\n",
    "from statsmodels.formula.api import ols\n",
    "model = ols('salary ~ education', data = sal).fit()\n",
    "anova_table = smp.stats.anova_lm(model, typ=2)\n",
    "print(anova_table)"
   ]
  },
  {
   "cell_type": "markdown",
   "metadata": {},
   "source": [
    "The p value obtained from ANOVA analysis is not significant (p > 0.05) (Fail to reject the null hypothesis), and therefore, we conclude that there is no significant differences among the educations."
   ]
  },
  {
   "cell_type": "code",
   "execution_count": 63,
   "metadata": {},
   "outputs": [
    {
     "name": "stdout",
     "output_type": "stream",
     "text": [
      "p-value for significance is:  0.08360139265047647\n",
      "Do not reject null hypothesis\n"
     ]
    }
   ],
   "source": [
    "# Another way\n",
    "sal_anova = sal[['salary','education']]\n",
    "groups = pd.unique(sal_anova.education.values)\n",
    "\n",
    "group_data = {group:sal_anova['salary'][sal_anova.education == group] for group in groups}\n",
    " \n",
    "F, p = stats.f_oneway(group_data['Bachelor'], group_data['Ph.D'], group_data['Master'])\n",
    "\n",
    "print(\"p-value for significance is: \", p)\n",
    "\n",
    "if p<= 0.05:\n",
    "    print(\"Reject null hypothesis\")\n",
    "else:\n",
    "    print(\"Do not reject null hypothesis\")"
   ]
  },
  {
   "cell_type": "markdown",
   "metadata": {},
   "source": [
    "#### Two Way F-test :\n",
    "Two way F-test is extension of 1-way f-test, it is used when we have 2 independent variable and 2+ groups. 2-way F-test does not tell which variable is dominant. if we need to check individual significance then Post-hoc testing need to be performed.\n",
    "##### Chi-Square Test:\n",
    "\n",
    "This test is applied when you have two categorical variables from a single population. It is used to determine whether there is a significant association between the two variables using a contingency table. There are three kinds of chi-squared tests: the test of independence, the goodness of fit, and the test of homogeneity. \n",
    "\n",
    "For example, in an election survey, voters might be classified by gender (male or female) and voting preference (Democrat, Republican, or Independent). We could use a chi-square test for independence to determine whether gender is related to voting preference.\n"
   ]
  },
  {
   "cell_type": "markdown",
   "metadata": {},
   "source": [
    "Here we can use our salary data with categorical variables 'education' and 'management'."
   ]
  },
  {
   "cell_type": "code",
   "execution_count": 64,
   "metadata": {},
   "outputs": [
    {
     "name": "stdout",
     "output_type": "stream",
     "text": [
      "contingency_table:\n",
      " management   N  Y\n",
      "education        \n",
      "Bachelor     9  5\n",
      "Master      12  7\n",
      "Ph.D         5  8\n"
     ]
    }
   ],
   "source": [
    "# Contingency table:\n",
    "contingency_table = pd.crosstab(sal[\"education\"], sal[\"management\"])\n",
    "print('contingency_table:\\n',contingency_table)"
   ]
  },
  {
   "cell_type": "code",
   "execution_count": 65,
   "metadata": {},
   "outputs": [
    {
     "name": "stdout",
     "output_type": "stream",
     "text": [
      "Observed Values:\n",
      " [[ 9  5]\n",
      " [12  7]\n",
      " [ 5  8]]\n"
     ]
    }
   ],
   "source": [
    "# Observed Values\n",
    "Observed_Values = contingency_table.values \n",
    "print(\"Observed Values:\\n\",Observed_Values)"
   ]
  },
  {
   "cell_type": "code",
   "execution_count": 68,
   "metadata": {},
   "outputs": [
    {
     "name": "stdout",
     "output_type": "stream",
     "text": [
      "Expected Values:\n",
      " [[ 7.91304348  6.08695652]\n",
      " [10.73913043  8.26086957]\n",
      " [ 7.34782609  5.65217391]]\n"
     ]
    }
   ],
   "source": [
    "# Expected Values:\n",
    "b=stats.chi2_contingency(contingency_table)\n",
    "Expected_Values = b[3]\n",
    "print('Expected Values:\\n',Expected_Values)"
   ]
  },
  {
   "cell_type": "code",
   "execution_count": 77,
   "metadata": {},
   "outputs": [
    {
     "name": "stdout",
     "output_type": "stream",
     "text": [
      "Degree of Freedom =  1\n",
      "Significance level =  0.05\n"
     ]
    }
   ],
   "source": [
    "# Degree of Freedom and Significance level\n",
    "no_of_rows=len(contingency_table.iloc[0:2,0])\n",
    "no_of_columns=len(contingency_table.iloc[0,0:2])\n",
    "dof=(no_of_rows-1)*(no_of_columns-1)\n",
    "print(\"Degree of Freedom = \", dof)\n",
    "alpha = 0.05\n",
    "print('Significance level = ', alpha)"
   ]
  },
  {
   "cell_type": "code",
   "execution_count": 78,
   "metadata": {},
   "outputs": [
    {
     "name": "stdout",
     "output_type": "stream",
     "text": [
      "chi-square statistic =  2.4093362103483558\n"
     ]
    }
   ],
   "source": [
    "#chi-square statistic\n",
    "from scipy.stats import chi2\n",
    "chi_square=sum([(o-e)**2./e for o,e in zip(Observed_Values,Expected_Values)])\n",
    "chi_square_statistic=chi_square[0]+chi_square[1]\n",
    "print(\"chi-square statistic = \",chi_square_statistic)"
   ]
  },
  {
   "cell_type": "code",
   "execution_count": 79,
   "metadata": {},
   "outputs": [
    {
     "name": "stdout",
     "output_type": "stream",
     "text": [
      "critical_value =  3.841458820694124\n"
     ]
    }
   ],
   "source": [
    "# critical value\n",
    "critical_value=chi2.ppf(q=1-alpha,df=dof)\n",
    "print('critical_value = ',critical_value)"
   ]
  },
  {
   "cell_type": "code",
   "execution_count": 80,
   "metadata": {},
   "outputs": [
    {
     "name": "stdout",
     "output_type": "stream",
     "text": [
      "p-value =  0.1206135000059404\n"
     ]
    }
   ],
   "source": [
    "#p-value\n",
    "p_value = 1-chi2.cdf(x = chi_square_statistic, df = dof)\n",
    "print('p-value = ', p_value)"
   ]
  },
  {
   "cell_type": "code",
   "execution_count": 81,
   "metadata": {},
   "outputs": [
    {
     "name": "stdout",
     "output_type": "stream",
     "text": [
      "Summary:\n",
      "Significance level =  0.05\n",
      "Degree of Freedom =  1\n",
      "chi-square statistic =  2.4093362103483558\n",
      "critical_value =  3.841458820694124\n",
      "p-value =  0.1206135000059404\n"
     ]
    }
   ],
   "source": [
    "print('Summary:')\n",
    "print('Significance level = ', alpha)\n",
    "print('Degree of Freedom = ', dof)\n",
    "print('chi-square statistic = ', chi_square_statistic)\n",
    "print('critical_value = ', critical_value)\n",
    "print('p-value = ', p_value)"
   ]
  },
  {
   "cell_type": "code",
   "execution_count": 82,
   "metadata": {},
   "outputs": [
    {
     "name": "stdout",
     "output_type": "stream",
     "text": [
      "Fail to reject H0,There is no relationship between 2 categorical variables\n"
     ]
    }
   ],
   "source": [
    "# Chi Square Test with critical value\n",
    "if chi_square_statistic >= critical_value:\n",
    "    print(\"Reject H0,There is a relationship between 2 categorical variables\")\n",
    "else:\n",
    "    print(\"Fail to reject H0,There is no relationship between 2 categorical variables\")"
   ]
  },
  {
   "cell_type": "code",
   "execution_count": 83,
   "metadata": {},
   "outputs": [
    {
     "name": "stdout",
     "output_type": "stream",
     "text": [
      "Fail to reject H0,There is no relationship between 2 categorical variables\n"
     ]
    }
   ],
   "source": [
    "# Chi Square Test with p value\n",
    "if p_value <= alpha:\n",
    "    print(\"Reject H0,There is a relationship between 2 categorical variables\")\n",
    "else:\n",
    "    print(\"Fail to reject H0,There is no relationship between 2 categorical variables\")"
   ]
  },
  {
   "cell_type": "code",
   "execution_count": null,
   "metadata": {},
   "outputs": [],
   "source": []
  }
 ],
 "metadata": {
  "kernelspec": {
   "display_name": "Python 3",
   "language": "python",
   "name": "python3"
  },
  "language_info": {
   "codemirror_mode": {
    "name": "ipython",
    "version": 3
   },
   "file_extension": ".py",
   "mimetype": "text/x-python",
   "name": "python",
   "nbconvert_exporter": "python",
   "pygments_lexer": "ipython3",
   "version": "3.8.5"
  }
 },
 "nbformat": 4,
 "nbformat_minor": 4
}
